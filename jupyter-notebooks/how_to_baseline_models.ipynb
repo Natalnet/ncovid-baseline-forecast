{
 "cells": [
  {
   "cell_type": "markdown",
   "metadata": {},
   "source": [
    "# Tutorial\n",
    "\n",
    "This is a simple tutorial in how to use the baseline models using our implementations "
   ]
  },
  {
   "cell_type": "markdown",
   "metadata": {},
   "source": [
    "# Get Data\n",
    "\n",
    "To get COVID-19 time-series data first go to the ```/src``` path and import the ```configures_manner``` and ```data_preparation``` modules."
   ]
  },
  {
   "cell_type": "code",
   "execution_count": 1,
   "metadata": {},
   "outputs": [],
   "source": [
    "import sys\n",
    "sys.path.append(\"../src\")\n",
    "\n",
    "import configures_manner\n",
    "import data_preparation"
   ]
  },
  {
   "cell_type": "markdown",
   "metadata": {},
   "source": [
    "Than, define the data params."
   ]
  },
  {
   "cell_type": "code",
   "execution_count": 2,
   "metadata": {},
   "outputs": [],
   "source": [
    "repo = \"p971074907\"\n",
    "country = \"brl\"\n",
    "subregion1 = \"rn\"\n",
    "path = country + \":\" + subregion1\n",
    "feature = \"date:newDeaths\"\n",
    "window_size = \"7\"\n",
    "begin = \"2020-01-01\"\n",
    "end = \"2020-04-30\""
   ]
  },
  {
   "cell_type": "markdown",
   "metadata": {},
   "source": [
    "Now, create a data preparation instance from ```data_preparation``` and use the ```get_data()```."
   ]
  },
  {
   "cell_type": "code",
   "execution_count": 3,
   "metadata": {},
   "outputs": [
    {
     "name": "stdout",
     "output_type": "stream",
     "text": [
      "Data: \n",
      " [0.         0.         0.         0.         0.         0.\n",
      " 0.         0.         0.         0.         0.         0.\n",
      " 0.         0.         0.         0.14285714 0.14285714 0.14285714\n",
      " 0.14285714 0.28571429 0.28571429 0.57142857 0.71428571 0.85714286\n",
      " 0.85714286 1.         1.28571429 1.28571429 1.         1.\n",
      " 1.42857143 1.57142857 1.57142857 1.28571429 1.71428571 1.85714286\n",
      " 1.85714286 1.42857143 1.42857143 1.42857143 2.         2.14285714\n",
      " 2.28571429 2.57142857 2.57142857 2.85714286 3.57142857 3.14285714\n",
      " 2.57142857]\n"
     ]
    }
   ],
   "source": [
    "data_preparation_instance = data_preparation.DataPreparation()\n",
    "data = data_preparation_instance.get_data(repo, path, feature, window_size, begin, end)\n",
    "\n",
    "print(\"Data: \\n\", data)"
   ]
  },
  {
   "cell_type": "markdown",
   "metadata": {},
   "source": [
    "To use this data on our models, it must to be windowed. To do this, use the data preparation instance ```windowing_data()``` method."
   ]
  },
  {
   "cell_type": "code",
   "execution_count": 4,
   "metadata": {},
   "outputs": [
    {
     "name": "stdout",
     "output_type": "stream",
     "text": [
      "Windowed data: \n",
      " [[[0.        ]\n",
      "  [0.        ]\n",
      "  [0.        ]\n",
      "  [0.        ]\n",
      "  [0.        ]\n",
      "  [0.        ]\n",
      "  [0.        ]]\n",
      "\n",
      " [[0.        ]\n",
      "  [0.        ]\n",
      "  [0.        ]\n",
      "  [0.        ]\n",
      "  [0.        ]\n",
      "  [0.        ]\n",
      "  [0.        ]]\n",
      "\n",
      " [[0.        ]\n",
      "  [0.14285714]\n",
      "  [0.14285714]\n",
      "  [0.14285714]\n",
      "  [0.14285714]\n",
      "  [0.28571429]\n",
      "  [0.28571429]]\n",
      "\n",
      " [[0.57142857]\n",
      "  [0.71428571]\n",
      "  [0.85714286]\n",
      "  [0.85714286]\n",
      "  [1.        ]\n",
      "  [1.28571429]\n",
      "  [1.28571429]]\n",
      "\n",
      " [[1.        ]\n",
      "  [1.        ]\n",
      "  [1.42857143]\n",
      "  [1.57142857]\n",
      "  [1.57142857]\n",
      "  [1.28571429]\n",
      "  [1.71428571]]\n",
      "\n",
      " [[1.85714286]\n",
      "  [1.85714286]\n",
      "  [1.42857143]\n",
      "  [1.42857143]\n",
      "  [1.42857143]\n",
      "  [2.        ]\n",
      "  [2.14285714]]\n",
      "\n",
      " [[2.28571429]\n",
      "  [2.57142857]\n",
      "  [2.57142857]\n",
      "  [2.85714286]\n",
      "  [3.57142857]\n",
      "  [3.14285714]\n",
      "  [2.57142857]]]\n"
     ]
    }
   ],
   "source": [
    "# No arguments are necessary\n",
    "windowed_data = data_preparation_instance.windowing_data()\n",
    "print(\"Windowed data: \\n\", windowed_data)"
   ]
  },
  {
   "cell_type": "markdown",
   "metadata": {},
   "source": [
    "This type of model do not require train, so you can create a model instance and do predictions directly. \n",
    "\n",
    "Choose the model you want between Naive and Average.\n",
    "\n",
    "\n",
    "$\\begin{itemize}\n",
    "\\item Naive: just repeat the data from a input. Three ways had been implemented, to the forecast length seted up in 3 samples:\n",
    "    \\begin{itemize}\n",
    "        \\item random: input: [1, 2, 3, 4, 5] \\rigtharrow output: [3, 2, 5]\n",
    "        \\item begin: input: [1, 2, 3, 4, 5] \\rigtharrow output: [1, 2, 3]\n",
    "        \\item end: input: [1, 2, 3, 4, 5] \\rigtharrow output: [5, 4, 3]\n",
    "    \\end{itemize}\n",
    "\\item Average: Calculates a average (mean or median) from the data input. Two ways had been implemented, to the forecast length seted up in 3 samples using mean:\n",
    "    \\begin{itemize}\n",
    "        \\item begin: input: [1, 2, 3, 4, 5] \\rigtharrow output: [3, 3.4, 3.68]\n",
    "        \\item end: input: [1, 2, 3, 4, 5] \\rigtharrow output: [3, 3.4, 3.68]\n",
    "    \\end{itemize}\n",
    "\\end{itemize}\n",
    "$\n",
    "\n",
    "In the average example the values are equal because the sample length to average calculation are the same. This can be changed with the model param ```calculation_average_lenght```.\n",
    "\n",
    "To this examples we will use the average model. So, import the model manner (```average_manner```) and create a instance passing the arguments.\n"
   ]
  },
  {
   "cell_type": "markdown",
   "metadata": {},
   "source": [
    "# Using average model"
   ]
  },
  {
   "cell_type": "code",
   "execution_count": 5,
   "metadata": {},
   "outputs": [],
   "source": [
    "from models import average_manner\n",
    "forecast_lenght = 7\n",
    "calculation_average_lenght = 4 # to show the diffence between \"begin\" and \"end\" modes.\n",
    "start_from = \"begin\"\n",
    "average_type = \"mean\"\n",
    "\n",
    "average_model_instance = average_manner.ModelAverage(forecast_lenght, calculation_average_lenght, start_from, average_type)"
   ]
  },
  {
   "cell_type": "markdown",
   "metadata": {},
   "source": [
    "Having the model instance created, call the ```predicting()``` instance method and pass the data as argument to get predictions."
   ]
  },
  {
   "cell_type": "code",
   "execution_count": 6,
   "metadata": {},
   "outputs": [
    {
     "name": "stdout",
     "output_type": "stream",
     "text": [
      "Predictions: \n",
      " [[[0.        ]\n",
      "  [0.        ]\n",
      "  [0.        ]\n",
      "  [0.        ]\n",
      "  [0.        ]\n",
      "  [0.        ]\n",
      "  [0.        ]]\n",
      "\n",
      " [[0.        ]\n",
      "  [0.        ]\n",
      "  [0.        ]\n",
      "  [0.        ]\n",
      "  [0.        ]\n",
      "  [0.        ]\n",
      "  [0.        ]]\n",
      "\n",
      " [[0.10714286]\n",
      "  [0.14285714]\n",
      "  [0.17857143]\n",
      "  [0.21428571]\n",
      "  [0.20535714]\n",
      "  [0.20535714]\n",
      "  [0.17857143]]\n",
      "\n",
      " [[0.75      ]\n",
      "  [0.85714286]\n",
      "  [1.        ]\n",
      "  [1.10714286]\n",
      "  [1.08035714]\n",
      "  [1.04464286]\n",
      "  [0.97321429]]\n",
      "\n",
      " [[1.25      ]\n",
      "  [1.39285714]\n",
      "  [1.46428571]\n",
      "  [1.53571429]\n",
      "  [1.45535714]\n",
      "  [1.41071429]\n",
      "  [1.45535714]]\n",
      "\n",
      " [[1.64285714]\n",
      "  [1.53571429]\n",
      "  [1.57142857]\n",
      "  [1.75      ]\n",
      "  [1.80357143]\n",
      "  [1.83035714]\n",
      "  [1.72321429]]\n",
      "\n",
      " [[2.57142857]\n",
      "  [2.89285714]\n",
      "  [3.03571429]\n",
      "  [3.03571429]\n",
      "  [2.96428571]\n",
      "  [2.79464286]\n",
      "  [2.76785714]]]\n"
     ]
    }
   ],
   "source": [
    "yhat = average_model_instance.predicting(windowed_data)\n",
    "print(\"Predictions: \\n\", yhat)"
   ]
  },
  {
   "cell_type": "markdown",
   "metadata": {},
   "source": [
    "To visualize the data and predictions, import the pyplot from matplot lib and plot them."
   ]
  },
  {
   "cell_type": "code",
   "execution_count": 7,
   "metadata": {},
   "outputs": [
    {
     "data": {
      "image/png": "[encoded data removed]",
      "text/plain": [
       "<Figure size 720x432 with 1 Axes>"
      ]
     },
     "metadata": {
      "needs_background": "light"
     },
     "output_type": "display_data"
    }
   ],
   "source": [
    "import matplotlib.pyplot as plt\n",
    "\n",
    "#reshape the data and the yhat\n",
    "plt.figure(figsize=(10, 6))\n",
    "data_to_plot = data.reshape(-1)\n",
    "yhat_to_plot = yhat.reshape(-1)\n",
    "plt.plot(data_to_plot, label=\"Original data\")\n",
    "plt.plot(yhat_to_plot, label=\"Predicted data\")\n",
    "plt.legend(loc='best')\n",
    "plt.show()"
   ]
  },
  {
   "cell_type": "markdown",
   "metadata": {},
   "source": [
    "As said, to show the difference between the \"begin\" and \"end\" average calculation arguments, the next example use the \"end\" mode."
   ]
  },
  {
   "cell_type": "code",
   "execution_count": 8,
   "metadata": {},
   "outputs": [
    {
     "name": "stdout",
     "output_type": "stream",
     "text": [
      "Predictions: \n",
      " [[[0.        ]\n",
      "  [0.        ]\n",
      "  [0.        ]\n",
      "  [0.        ]\n",
      "  [0.        ]\n",
      "  [0.        ]\n",
      "  [0.        ]]\n",
      "\n",
      " [[0.        ]\n",
      "  [0.        ]\n",
      "  [0.        ]\n",
      "  [0.        ]\n",
      "  [0.        ]\n",
      "  [0.        ]\n",
      "  [0.        ]]\n",
      "\n",
      " [[0.21428571]\n",
      "  [0.23214286]\n",
      "  [0.25446429]\n",
      "  [0.24665179]\n",
      "  [0.23688616]\n",
      "  [0.24253627]\n",
      "  [0.24513463]]\n",
      "\n",
      " [[1.10714286]\n",
      "  [1.16964286]\n",
      "  [1.21205357]\n",
      "  [1.19363839]\n",
      "  [1.17061942]\n",
      "  [1.18648856]\n",
      "  [1.19069999]]\n",
      "\n",
      " [[1.53571429]\n",
      "  [1.52678571]\n",
      "  [1.515625  ]\n",
      "  [1.57310268]\n",
      "  [1.53780692]\n",
      "  [1.53833008]\n",
      "  [1.54121617]]\n",
      "\n",
      " [[1.75      ]\n",
      "  [1.83035714]\n",
      "  [1.93080357]\n",
      "  [1.91350446]\n",
      "  [1.85616629]\n",
      "  [1.88270787]\n",
      "  [1.89579555]]\n",
      "\n",
      " [[3.03571429]\n",
      "  [3.08035714]\n",
      "  [2.95758929]\n",
      "  [2.91127232]\n",
      "  [2.99623326]\n",
      "  [2.986363  ]\n",
      "  [2.96286447]]]\n"
     ]
    }
   ],
   "source": [
    "forecast_lenght = 7\n",
    "calculation_average_lenght = 4 # to show the diffence between \"begin\" and \"end\" modes.\n",
    "start_from = \"end\"\n",
    "average_type = \"mean\"\n",
    "\n",
    "average_model_instance = average_manner.ModelAverage(forecast_lenght, calculation_average_lenght, start_from, average_type)\n",
    "\n",
    "yhat = average_model_instance.predicting(windowed_data)\n",
    "print(\"Predictions: \\n\", yhat)"
   ]
  },
  {
   "cell_type": "code",
   "execution_count": 9,
   "metadata": {},
   "outputs": [
    {
     "data": {
      "image/png": "[encoded data removed]",
      "text/plain": [
       "<Figure size 720x432 with 1 Axes>"
      ]
     },
     "metadata": {
      "needs_background": "light"
     },
     "output_type": "display_data"
    }
   ],
   "source": [
    "#reshape the data and the yhat\n",
    "plt.figure(figsize=(10, 6))\n",
    "data_to_plot = data.reshape(-1)\n",
    "yhat_to_plot = yhat.reshape(-1)\n",
    "plt.plot(data_to_plot, label=\"Original data\")\n",
    "plt.plot(yhat_to_plot, label=\"Predicted data\")\n",
    "plt.legend(loc='best')\n",
    "plt.show()"
   ]
  },
  {
   "cell_type": "markdown",
   "metadata": {},
   "source": [
    "# Using naive model"
   ]
  },
  {
   "cell_type": "markdown",
   "metadata": {},
   "source": [
    "To use a naive model, the procedure is similar."
   ]
  },
  {
   "cell_type": "code",
   "execution_count": 10,
   "metadata": {},
   "outputs": [
    {
     "name": "stdout",
     "output_type": "stream",
     "text": [
      "Predictions: \n",
      " [[[0.        ]\n",
      "  [0.        ]\n",
      "  [0.        ]\n",
      "  [0.        ]\n",
      "  [0.        ]\n",
      "  [0.        ]\n",
      "  [0.        ]]\n",
      "\n",
      " [[0.        ]\n",
      "  [0.        ]\n",
      "  [0.        ]\n",
      "  [0.        ]\n",
      "  [0.        ]\n",
      "  [0.        ]\n",
      "  [0.        ]]\n",
      "\n",
      " [[0.14285714]\n",
      "  [0.        ]\n",
      "  [0.14285714]\n",
      "  [0.14285714]\n",
      "  [0.14285714]\n",
      "  [0.        ]\n",
      "  [0.14285714]]\n",
      "\n",
      " [[0.71428571]\n",
      "  [0.85714286]\n",
      "  [0.57142857]\n",
      "  [0.71428571]\n",
      "  [0.85714286]\n",
      "  [0.57142857]\n",
      "  [0.85714286]]\n",
      "\n",
      " [[1.57142857]\n",
      "  [1.71428571]\n",
      "  [1.71428571]\n",
      "  [1.57142857]\n",
      "  [1.71428571]\n",
      "  [1.57142857]\n",
      "  [1.        ]]\n",
      "\n",
      " [[1.42857143]\n",
      "  [1.42857143]\n",
      "  [1.42857143]\n",
      "  [2.        ]\n",
      "  [1.42857143]\n",
      "  [2.        ]\n",
      "  [1.42857143]]\n",
      "\n",
      " [[3.57142857]\n",
      "  [2.57142857]\n",
      "  [2.57142857]\n",
      "  [2.57142857]\n",
      "  [2.57142857]\n",
      "  [3.57142857]\n",
      "  [3.57142857]]]\n"
     ]
    }
   ],
   "source": [
    "from models import naive_manner\n",
    "\n",
    "#only two arguments\n",
    "forecast_lenght = 7\n",
    "naive_mode = \"random\"\n",
    "\n",
    "naive_model_instance = naive_manner.ModelNaive(forecast_lenght, naive_mode)\n",
    "\n",
    "yhat = naive_model_instance.predicting(windowed_data)\n",
    "print(\"Predictions: \\n\", yhat)"
   ]
  },
  {
   "cell_type": "code",
   "execution_count": 11,
   "metadata": {},
   "outputs": [
    {
     "data": {
      "image/png": "[encoded data removed]",
      "text/plain": [
       "<Figure size 720x432 with 1 Axes>"
      ]
     },
     "metadata": {
      "needs_background": "light"
     },
     "output_type": "display_data"
    }
   ],
   "source": [
    "#reshape the data and the yhat\n",
    "plt.figure(figsize=(10, 6))\n",
    "data_to_plot = data.reshape(-1)\n",
    "yhat_to_plot = yhat.reshape(-1)\n",
    "plt.plot(data_to_plot, label=\"Original data\")\n",
    "plt.plot(yhat_to_plot, label=\"Predicted data\")\n",
    "plt.legend(loc='best')\n",
    "plt.show()"
   ]
  },
  {
   "cell_type": "markdown",
   "metadata": {},
   "source": [
    "Using another naive mode."
   ]
  },
  {
   "cell_type": "code",
   "execution_count": 12,
   "metadata": {},
   "outputs": [
    {
     "name": "stdout",
     "output_type": "stream",
     "text": [
      "Predictions: \n",
      " [[[0.        ]\n",
      "  [0.        ]\n",
      "  [0.        ]\n",
      "  [0.        ]\n",
      "  [0.        ]\n",
      "  [0.        ]\n",
      "  [0.        ]]\n",
      "\n",
      " [[0.        ]\n",
      "  [0.        ]\n",
      "  [0.        ]\n",
      "  [0.        ]\n",
      "  [0.        ]\n",
      "  [0.        ]\n",
      "  [0.        ]]\n",
      "\n",
      " [[0.28571429]\n",
      "  [0.28571429]\n",
      "  [0.14285714]\n",
      "  [0.14285714]\n",
      "  [0.14285714]\n",
      "  [0.14285714]\n",
      "  [0.        ]]\n",
      "\n",
      " [[1.28571429]\n",
      "  [1.28571429]\n",
      "  [1.        ]\n",
      "  [0.85714286]\n",
      "  [0.85714286]\n",
      "  [0.71428571]\n",
      "  [0.57142857]]\n",
      "\n",
      " [[1.71428571]\n",
      "  [1.28571429]\n",
      "  [1.57142857]\n",
      "  [1.57142857]\n",
      "  [1.42857143]\n",
      "  [1.        ]\n",
      "  [1.        ]]\n",
      "\n",
      " [[2.14285714]\n",
      "  [2.        ]\n",
      "  [1.42857143]\n",
      "  [1.42857143]\n",
      "  [1.42857143]\n",
      "  [1.85714286]\n",
      "  [1.85714286]]\n",
      "\n",
      " [[2.57142857]\n",
      "  [3.14285714]\n",
      "  [3.57142857]\n",
      "  [2.85714286]\n",
      "  [2.57142857]\n",
      "  [2.57142857]\n",
      "  [2.28571429]]]\n"
     ]
    }
   ],
   "source": [
    "#only two arguments\n",
    "forecast_lenght = 7\n",
    "naive_mode = \"end\"\n",
    "\n",
    "naive_model_instance = naive_manner.ModelNaive(forecast_lenght, naive_mode)\n",
    "\n",
    "yhat = naive_model_instance.predicting(windowed_data)\n",
    "print(\"Predictions: \\n\", yhat)"
   ]
  },
  {
   "cell_type": "code",
   "execution_count": 13,
   "metadata": {},
   "outputs": [
    {
     "data": {
      "image/png": "[encoded data removed]",
      "text/plain": [
       "<Figure size 720x432 with 1 Axes>"
      ]
     },
     "metadata": {
      "needs_background": "light"
     },
     "output_type": "display_data"
    }
   ],
   "source": [
    "#reshape the data and the yhat\n",
    "plt.figure(figsize=(10, 6))\n",
    "data_to_plot = data.reshape(-1)\n",
    "yhat_to_plot = yhat.reshape(-1)\n",
    "plt.plot(data_to_plot, label=\"Original data\")\n",
    "plt.plot(yhat_to_plot, label=\"Predicted data\")\n",
    "plt.legend(loc='best')\n",
    "plt.show()"
   ]
  },
  {
   "cell_type": "markdown",
   "metadata": {},
   "source": [
    "# Doing a grid search"
   ]
  },
  {
   "cell_type": "markdown",
   "metadata": {},
   "source": [
    "To do a grid search, firstly create a evaluator instance from ```evaluator_manner``` class. To create it, you need to pass the data params due to the nature of this class, developed to work in a server, waiting a post request."
   ]
  },
  {
   "cell_type": "code",
   "execution_count": 14,
   "metadata": {},
   "outputs": [],
   "source": [
    "import evaluator_manner\n",
    "import configures_manner\n",
    "\n",
    "# definning the data configs\n",
    "\n",
    "# this values was previously defined in the initial cells from this tutorial.\n",
    "data_configs = {\n",
    "        \"repo\": repo,\n",
    "        \"path\": path,\n",
    "        \"feature\": feature,\n",
    "        \"begin\": begin,\n",
    "        \"end\": end,\n",
    "    }\n",
    "\n",
    "evaluator_instance = evaluator_manner.Evaluator(data_configs)"
   ]
  },
  {
   "cell_type": "markdown",
   "metadata": {},
   "source": [
    "Having the evaluator instance created, change the ```configure_grid_search.json``` file on the ```/doc/``` path, as in the examples (```/doc/configures_json_examples``` path).\n",
    "\n",
    "Call the ```grid_search_from_configures()``` method from instance."
   ]
  },
  {
   "cell_type": "code",
   "execution_count": 16,
   "metadata": {},
   "outputs": [
    {
     "name": "stdout",
     "output_type": "stream",
     "text": [
      "Grid Search: \n",
      " {'model_index_0': {'model_id': '718fdf4c-f3f0-11ec-85c1-dd71d0e92425', 'baseline_type': 'average', 'params': {'forecast_average_lenght': 5, 'calculation_average_lenght': 5, 'start_from': 'end', 'average_type': 'mean'}, 'score': 0.4661825021904742, 'scores': [0.3185853082605283, 0.37304410565227375, 0.6210556735590329, 0.49608044991625666, 0.4627808994465061]}, 'model_index_1': {'model_id': '719706be-f3f0-11ec-85c1-dd71d0e92425', 'baseline_type': 'average', 'params': {'forecast_average_lenght': 5, 'calculation_average_lenght': 5, 'start_from': 'end', 'average_type': 'median'}, 'score': 0.5551245493635842, 'scores': [0.36421567954234185, 0.45922146480918835, 0.7046975517594641, 0.6116777418411966, 0.5714285714285715]}, 'model_index_2': {'model_id': '719dd41c-f3f0-11ec-85c1-dd71d0e92425', 'baseline_type': 'average', 'params': {'forecast_average_lenght': 5, 'calculation_average_lenght': 5, 'start_from': 'begin', 'average_type': 'mean'}, 'score': 0.5614694035799838, 'scores': [0.4799376376722521, 0.5183700251685057, 0.6881899753533692, 0.5763502336572224, 0.520967180080558]}, 'model_index_3': {'model_id': '71a5d6a8-f3f0-11ec-85c1-dd71d0e92425', 'baseline_type': 'average', 'params': {'forecast_average_lenght': 5, 'calculation_average_lenght': 5, 'start_from': 'begin', 'average_type': 'median'}, 'score': 0.5959043889889776, 'scores': [0.5832118435198045, 0.4879500364742666, 0.7046975517594641, 0.6116777418411966, 0.5714285714285715]}, 'model_index_4': {'model_id': '71ad252a-f3f0-11ec-85c1-dd71d0e92425', 'baseline_type': 'average', 'params': {'forecast_average_lenght': 5, 'calculation_average_lenght': 7, 'start_from': 'end', 'average_type': 'mean'}, 'score': 0.5429622927336234, 'scores': [0.3945871441134359, 0.47662511649117106, 0.7080412573131507, 0.5764886874048275, 0.507452571103563]}, 'model_index_5': {'model_id': '71b40ebc-f3f0-11ec-85c1-dd71d0e92425', 'baseline_type': 'average', 'params': {'forecast_average_lenght': 5, 'calculation_average_lenght': 7, 'start_from': 'end', 'average_type': 'median'}, 'score': 0.5930435736706948, 'scores': [0.3824375810525957, 0.4879500364742666, 0.7468755781599108, 0.6649638116080449, 0.6116777418411967]}, 'model_index_6': {'model_id': '71bb6c34-f3f0-11ec-85c1-dd71d0e92425', 'baseline_type': 'average', 'params': {'forecast_average_lenght': 5, 'calculation_average_lenght': 7, 'start_from': 'begin', 'average_type': 'mean'}, 'score': 0.5429622927336234, 'scores': [0.3945871441134359, 0.47662511649117106, 0.7080412573131507, 0.5764886874048275, 0.507452571103563]}, 'model_index_7': {'model_id': '71c3147a-f3f0-11ec-85c1-dd71d0e92425', 'baseline_type': 'average', 'params': {'forecast_average_lenght': 5, 'calculation_average_lenght': 7, 'start_from': 'begin', 'average_type': 'median'}, 'score': 0.5930435736706948, 'scores': [0.3824375810525957, 0.4879500364742666, 0.7468755781599108, 0.6649638116080449, 0.6116777418411967]}, 'model_index_8': {'model_id': '71ca1f54-f3f0-11ec-85c1-dd71d0e92425', 'baseline_type': 'average', 'params': {'forecast_average_lenght': 5, 'calculation_average_lenght': 10, 'start_from': 'end', 'average_type': 'mean'}, 'score': 0.6010949562812434, 'scores': [0.3945871441134359, 0.5052823838016304, 0.7729100700590742, 0.6770672808037406, 0.5828862251933905]}, 'model_index_9': {'model_id': '71d1f2a6-f3f0-11ec-85c1-dd71d0e92425', 'baseline_type': 'average', 'params': {'forecast_average_lenght': 5, 'calculation_average_lenght': 10, 'start_from': 'end', 'average_type': 'median'}, 'score': 0.5930435736706948, 'scores': [0.3824375810525957, 0.4879500364742666, 0.7468755781599108, 0.6649638116080449, 0.6116777418411967]}, 'model_index_10': {'model_id': '71d956ea-f3f0-11ec-85c1-dd71d0e92425', 'baseline_type': 'average', 'params': {'forecast_average_lenght': 5, 'calculation_average_lenght': 10, 'start_from': 'begin', 'average_type': 'mean'}, 'score': 0.5429622927336234, 'scores': [0.3945871441134359, 0.47662511649117106, 0.7080412573131507, 0.5764886874048275, 0.507452571103563]}, 'model_index_11': {'model_id': '71e0a544-f3f0-11ec-85c1-dd71d0e92425', 'baseline_type': 'average', 'params': {'forecast_average_lenght': 5, 'calculation_average_lenght': 10, 'start_from': 'begin', 'average_type': 'median'}, 'score': 0.5930435736706948, 'scores': [0.3824375810525957, 0.4879500364742666, 0.7468755781599108, 0.6649638116080449, 0.6116777418411967]}, 'model_index_12': {'model_id': '71e83c46-f3f0-11ec-85c1-dd71d0e92425', 'baseline_type': 'average', 'params': {'forecast_average_lenght': 7, 'calculation_average_lenght': 5, 'start_from': 'end', 'average_type': 'mean'}, 'score': 0.5753287737853657, 'scores': [0.3211374342873783, 0.42521223192291974, 0.4293460935273675, 0.5054847625498399, 0.7931102917425972, 0.7410948369584165, 0.6441966208451638]}, 'model_index_13': {'model_id': '71f0d586-f3f0-11ec-85c1-dd71d0e92425', 'baseline_type': 'average', 'params': {'forecast_average_lenght': 7, 'calculation_average_lenght': 5, 'start_from': 'end', 'average_type': 'median'}, 'score': 0.7156449652092503, 'scores': [0.40824829046386296, 0.537694751935058, 0.5832118435198045, 0.6974199293274671, 0.9741558354989898, 0.8748177652797064, 0.7670954139803341]}, 'model_index_14': {'model_id': '71f86698-f3f0-11ec-85c1-dd71d0e92425', 'baseline_type': 'average', 'params': {'forecast_average_lenght': 7, 'calculation_average_lenght': 5, 'start_from': 'begin', 'average_type': 'mean'}, 'score': 0.6228272351304284, 'scores': [0.4110712734268044, 0.49045307388890425, 0.4799376376722521, 0.5821237215668885, 0.8367445826526994, 0.7490801615550732, 0.6894938693841792]}, 'model_index_15': {'model_id': '71ffdc48-f3f0-11ec-85c1-dd71d0e92425', 'baseline_type': 'average', 'params': {'forecast_average_lenght': 7, 'calculation_average_lenght': 5, 'start_from': 'begin', 'average_type': 'median'}, 'score': 0.7217299161836651, 'scores': [0.4325214791567844, 0.556348640264187, 0.5832118435198045, 0.6974199293274671, 0.9724084693648638, 0.8883218145798871, 0.7670954139803341]}, 'model_index_16': {'model_id': '7207b3dc-f3f0-11ec-85c1-dd71d0e92425', 'baseline_type': 'average', 'params': {'forecast_average_lenght': 7, 'calculation_average_lenght': 7, 'start_from': 'end', 'average_type': 'mean'}, 'score': 0.6045584235095539, 'scores': [0.34493217235611473, 0.4509064706514569, 0.48076337141236036, 0.5744039573571548, 0.8264806069083811, 0.738659028441117, 0.6681172680303054]}, 'model_index_17': {'model_id': '720f70b8-f3f0-11ec-85c1-dd71d0e92425', 'baseline_type': 'average', 'params': {'forecast_average_lenght': 7, 'calculation_average_lenght': 7, 'start_from': 'end', 'average_type': 'median'}, 'score': 0.6160313750166134, 'scores': [0.3086066999241838, 0.4205600412537072, 0.4773794679943674, 0.5832118435198045, 0.8370664681546168, 0.7693092581620722, 0.7237468644557461]}, 'model_index_18': {'model_id': '7216b936-f3f0-11ec-85c1-dd71d0e92425', 'baseline_type': 'average', 'params': {'forecast_average_lenght': 7, 'calculation_average_lenght': 7, 'start_from': 'begin', 'average_type': 'mean'}, 'score': 0.6045584235095539, 'scores': [0.34493217235611473, 0.4509064706514569, 0.48076337141236036, 0.5744039573571548, 0.8264806069083811, 0.738659028441117, 0.6681172680303054]}, 'model_index_19': {'model_id': '721f0078-f3f0-11ec-85c1-dd71d0e92425', 'baseline_type': 'average', 'params': {'forecast_average_lenght': 7, 'calculation_average_lenght': 7, 'start_from': 'begin', 'average_type': 'median'}, 'score': 0.6160313750166134, 'scores': [0.3086066999241838, 0.4205600412537072, 0.4773794679943674, 0.5832118435198045, 0.8370664681546168, 0.7693092581620722, 0.7237468644557461]}, 'model_index_20': {'model_id': '7226080a-f3f0-11ec-85c1-dd71d0e92425', 'baseline_type': 'average', 'params': {'forecast_average_lenght': 7, 'calculation_average_lenght': 10, 'start_from': 'end', 'average_type': 'mean'}, 'score': 0.6317151311640019, 'scores': [0.34493217235611473, 0.45967471854492953, 0.49085769268594687, 0.6008000589338671, 0.8629331472070481, 0.7897600055116148, 0.7020630527644371]}, 'model_index_21': {'model_id': '722db2d0-f3f0-11ec-85c1-dd71d0e92425', 'baseline_type': 'average', 'params': {'forecast_average_lenght': 7, 'calculation_average_lenght': 10, 'start_from': 'end', 'average_type': 'median'}, 'score': 0.6160313750166134, 'scores': [0.3086066999241838, 0.4205600412537072, 0.4773794679943674, 0.5832118435198045, 0.8370664681546168, 0.7693092581620722, 0.7237468644557461]}, 'model_index_22': {'model_id': '72351606-f3f0-11ec-85c1-dd71d0e92425', 'baseline_type': 'average', 'params': {'forecast_average_lenght': 7, 'calculation_average_lenght': 10, 'start_from': 'begin', 'average_type': 'mean'}, 'score': 0.6045584235095539, 'scores': [0.34493217235611473, 0.4509064706514569, 0.48076337141236036, 0.5744039573571548, 0.8264806069083811, 0.738659028441117, 0.6681172680303054]}, 'model_index_23': {'model_id': '723edefc-f3f0-11ec-85c1-dd71d0e92425', 'baseline_type': 'average', 'params': {'forecast_average_lenght': 7, 'calculation_average_lenght': 10, 'start_from': 'begin', 'average_type': 'median'}, 'score': 0.6160313750166134, 'scores': [0.3086066999241838, 0.4205600412537072, 0.4773794679943674, 0.5832118435198045, 0.8370664681546168, 0.7693092581620722, 0.7237468644557461]}, 'model_index_24': {'model_id': '72477968-f3f0-11ec-85c1-dd71d0e92425', 'baseline_type': 'average', 'params': {'forecast_average_lenght': 10, 'calculation_average_lenght': 5, 'start_from': 'end', 'average_type': 'mean'}, 'score': 0.6798011501622667, 'scores': [0.23316806586403616, 0.30573297673169725, 0.38995317353628545, 0.45564323171999915, 0.5805744172701477, 0.6330701825463411, 0.7542113008075415, 1.040357460216117, 0.9602679212487979, 0.895904282591445]}, 'model_index_25': {'model_id': '724f2834-f3f0-11ec-85c1-dd71d0e92425', 'baseline_type': 'average', 'params': {'forecast_average_lenght': 10, 'calculation_average_lenght': 5, 'start_from': 'end', 'average_type': 'median'}, 'score': 0.6521549834579046, 'scores': [0.22131333406899517, 0.29277002188456, 0.3779644730092272, 0.42857142857142844, 0.5458563764155087, 0.5993193418115154, 0.7199773239059517, 0.995910003310479, 0.9236131357282636, 0.87831006565368]}, 'model_index_26': {'model_id': '7256c652-f3f0-11ec-85c1-dd71d0e92425', 'baseline_type': 'average', 'params': {'forecast_average_lenght': 10, 'calculation_average_lenght': 5, 'start_from': 'begin', 'average_type': 'mean'}, 'score': 0.7113141733382211, 'scores': [0.3561701038227982, 0.38714022139324167, 0.41952353926806063, 0.47848058839349766, 0.5995317901053612, 0.6676966193640674, 0.7886289005971966, 1.0608859139648241, 0.98171694661206, 0.928202775875432]}, 'model_index_27': {'model_id': '725e7ac8-f3f0-11ec-85c1-dd71d0e92425', 'baseline_type': 'average', 'params': {'forecast_average_lenght': 10, 'calculation_average_lenght': 5, 'start_from': 'begin', 'average_type': 'median'}, 'score': 0.6724915597679899, 'scores': [0.43330716823151716, 0.36700664510471803, 0.3779644730092272, 0.5150787536377126, 0.5458563764155087, 0.5993193418115154, 0.7199773239059517, 0.995910003310479, 0.9236131357282636, 0.87831006565368]}, 'model_index_28': {'model_id': '7266da42-f3f0-11ec-85c1-dd71d0e92425', 'baseline_type': 'average', 'params': {'forecast_average_lenght': 10, 'calculation_average_lenght': 7, 'start_from': 'end', 'average_type': 'mean'}, 'score': 0.7063348392965001, 'scores': [0.2734998460040972, 0.37448976754689983, 0.4338309656897902, 0.4770911874533458, 0.5947605389677738, 0.6600893300814064, 0.7846718970666894, 1.0627102523314025, 0.9817696948102628, 0.9272681218701775]}, 'model_index_29': {'model_id': '727234fa-f3f0-11ec-85c1-dd71d0e92425', 'baseline_type': 'average', 'params': {'forecast_average_lenght': 10, 'calculation_average_lenght': 7, 'start_from': 'end', 'average_type': 'median'}, 'score': 0.7423074889580904, 'scores': [0.2474358296526967, 0.39382996434543494, 0.469476477861571, 0.5190257749881413, 0.63887656499994, 0.7085483867221284, 0.828078671210825, 1.099164803524077, 1.0222025039999039, 0.9772932215135469]}, 'model_index_30': {'model_id': '727a1a94-f3f0-11ec-85c1-dd71d0e92425', 'baseline_type': 'average', 'params': {'forecast_average_lenght': 10, 'calculation_average_lenght': 7, 'start_from': 'begin', 'average_type': 'mean'}, 'score': 0.7063348392965001, 'scores': [0.2734998460040972, 0.37448976754689983, 0.4338309656897902, 0.4770911874533458, 0.5947605389677738, 0.6600893300814064, 0.7846718970666894, 1.0627102523314025, 0.9817696948102628, 0.9272681218701775]}, 'model_index_31': {'model_id': '7281a8a4-f3f0-11ec-85c1-dd71d0e92425', 'baseline_type': 'average', 'params': {'forecast_average_lenght': 10, 'calculation_average_lenght': 7, 'start_from': 'begin', 'average_type': 'median'}, 'score': 0.7423074889580904, 'scores': [0.2474358296526967, 0.39382996434543494, 0.469476477861571, 0.5190257749881413, 0.63887656499994, 0.7085483867221284, 0.828078671210825, 1.099164803524077, 1.0222025039999039, 0.9772932215135469]}, 'model_index_32': {'model_id': '7289075c-f3f0-11ec-85c1-dd71d0e92425', 'baseline_type': 'average', 'params': {'forecast_average_lenght': 10, 'calculation_average_lenght': 10, 'start_from': 'end', 'average_type': 'mean'}, 'score': 0.7228425999760182, 'scores': [0.2734998460040972, 0.39772363515702164, 0.48251389459334243, 0.5219864023595152, 0.624871165396868, 0.6715012180784806, 0.7857993832528332, 1.0652577218233188, 0.9954223063116515, 0.9498633655412668]}, 'model_index_33': {'model_id': '729081da-f3f0-11ec-85c1-dd71d0e92425', 'baseline_type': 'average', 'params': {'forecast_average_lenght': 10, 'calculation_average_lenght': 10, 'start_from': 'end', 'average_type': 'median'}, 'score': 0.7423074889580904, 'scores': [0.2474358296526967, 0.39382996434543494, 0.469476477861571, 0.5190257749881413, 0.63887656499994, 0.7085483867221284, 0.828078671210825, 1.099164803524077, 1.0222025039999039, 0.9772932215135469]}, 'model_index_34': {'model_id': '72980dba-f3f0-11ec-85c1-dd71d0e92425', 'baseline_type': 'average', 'params': {'forecast_average_lenght': 10, 'calculation_average_lenght': 10, 'start_from': 'begin', 'average_type': 'mean'}, 'score': 0.7063348392965001, 'scores': [0.2734998460040972, 0.37448976754689983, 0.4338309656897902, 0.4770911874533458, 0.5947605389677738, 0.6600893300814064, 0.7846718970666894, 1.0627102523314025, 0.9817696948102628, 0.9272681218701775]}, 'model_index_35': {'model_id': '72a02644-f3f0-11ec-85c1-dd71d0e92425', 'baseline_type': 'average', 'params': {'forecast_average_lenght': 10, 'calculation_average_lenght': 10, 'start_from': 'begin', 'average_type': 'median'}, 'score': 0.7423074889580904, 'scores': [0.2474358296526967, 0.39382996434543494, 0.469476477861571, 0.5190257749881413, 0.63887656499994, 0.7085483867221284, 0.828078671210825, 1.099164803524077, 1.0222025039999039, 0.9772932215135469]}}\n"
     ]
    }
   ],
   "source": [
    "# if you want, save a json file with the models scores and params changing the 'save_file' boolean to True.\n",
    "\n",
    "# The variable grid search is a dictioanry with the results.\n",
    "grid_serach = evaluator_instance.grid_search_from_local_configures(save_file=False)\n",
    "\n",
    "print(\"Grid Search: \\n\", grid_serach)"
   ]
  },
  {
   "cell_type": "markdown",
   "metadata": {},
   "source": [
    "To get the best scored model: "
   ]
  },
  {
   "cell_type": "code",
   "execution_count": 18,
   "metadata": {},
   "outputs": [
    {
     "data": {
      "text/plain": [
       "{'model_id': '718fdf4c-f3f0-11ec-85c1-dd71d0e92425',\n",
       " 'baseline_type': 'average',\n",
       " 'params': {'forecast_average_lenght': 5,\n",
       "  'calculation_average_lenght': 5,\n",
       "  'start_from': 'end',\n",
       "  'average_type': 'mean'},\n",
       " 'score': 0.4661825021904742,\n",
       " 'scores': [0.3185853082605283,\n",
       "  0.37304410565227375,\n",
       "  0.6210556735590329,\n",
       "  0.49608044991625666,\n",
       "  0.4627808994465061]}"
      ]
     },
     "execution_count": 18,
     "metadata": {},
     "output_type": "execute_result"
    }
   ],
   "source": [
    "best_model = evaluator_instance.get_best_model(grid_serach)\n",
    "best_model"
   ]
  }
 ],
 "metadata": {
  "kernelspec": {
   "display_name": "Python 3.8.11 ('ncovid-backend')",
   "language": "python",
   "name": "python3"
  },
  "language_info": {
   "codemirror_mode": {
    "name": "ipython",
    "version": 3
   },
   "file_extension": ".py",
   "mimetype": "text/x-python",
   "name": "python",
   "nbconvert_exporter": "python",
   "pygments_lexer": "ipython3",
   "version": "3.8.11"
  },
  "orig_nbformat": 4,
  "vscode": {
   "interpreter": {
    "hash": "b48a8372de07dcfb7270582fe52a873b16bfa1fa9f9ee7b27a1873baaed48200"
   }
  }
 },
 "nbformat": 4,
 "nbformat_minor": 2
}
